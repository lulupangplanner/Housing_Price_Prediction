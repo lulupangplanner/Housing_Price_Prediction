{
 "cells": [
  {
   "cell_type": "code",
   "execution_count": 147,
   "metadata": {},
   "outputs": [],
   "source": [
    "import pandas as pd"
   ]
  },
  {
   "cell_type": "code",
   "execution_count": 148,
   "metadata": {},
   "outputs": [],
   "source": [
    "# Importing the dataset\n",
    "df=pd.read_csv('/Users/panglu/Documents/2020_Class/Fall - Intro to ML & DM/Term Project/Data/home data.csv')"
   ]
  },
  {
   "cell_type": "code",
   "execution_count": 149,
   "metadata": {},
   "outputs": [
    {
     "data": {
      "text/plain": [
       "(1460, 81)"
      ]
     },
     "execution_count": 149,
     "metadata": {},
     "output_type": "execute_result"
    }
   ],
   "source": [
    "df.shape"
   ]
  },
  {
   "cell_type": "code",
   "execution_count": 150,
   "metadata": {},
   "outputs": [
    {
     "data": {
      "text/html": [
       "<div>\n",
       "<style scoped>\n",
       "    .dataframe tbody tr th:only-of-type {\n",
       "        vertical-align: middle;\n",
       "    }\n",
       "\n",
       "    .dataframe tbody tr th {\n",
       "        vertical-align: top;\n",
       "    }\n",
       "\n",
       "    .dataframe thead th {\n",
       "        text-align: right;\n",
       "    }\n",
       "</style>\n",
       "<table border=\"1\" class=\"dataframe\">\n",
       "  <thead>\n",
       "    <tr style=\"text-align: right;\">\n",
       "      <th></th>\n",
       "      <th>Id</th>\n",
       "      <th>MSSubClass</th>\n",
       "      <th>MSZoning</th>\n",
       "      <th>LotFrontage</th>\n",
       "      <th>LotArea</th>\n",
       "      <th>Street</th>\n",
       "      <th>Alley</th>\n",
       "      <th>LotShape</th>\n",
       "      <th>LandContour</th>\n",
       "      <th>Utilities</th>\n",
       "      <th>...</th>\n",
       "      <th>PoolArea</th>\n",
       "      <th>PoolQC</th>\n",
       "      <th>Fence</th>\n",
       "      <th>MiscFeature</th>\n",
       "      <th>MiscVal</th>\n",
       "      <th>MoSold</th>\n",
       "      <th>YrSold</th>\n",
       "      <th>SaleType</th>\n",
       "      <th>SaleCondition</th>\n",
       "      <th>SalePrice</th>\n",
       "    </tr>\n",
       "  </thead>\n",
       "  <tbody>\n",
       "    <tr>\n",
       "      <th>0</th>\n",
       "      <td>1</td>\n",
       "      <td>60</td>\n",
       "      <td>RL</td>\n",
       "      <td>65.0</td>\n",
       "      <td>8450</td>\n",
       "      <td>Pave</td>\n",
       "      <td>NaN</td>\n",
       "      <td>Reg</td>\n",
       "      <td>Lvl</td>\n",
       "      <td>AllPub</td>\n",
       "      <td>...</td>\n",
       "      <td>0</td>\n",
       "      <td>NaN</td>\n",
       "      <td>NaN</td>\n",
       "      <td>NaN</td>\n",
       "      <td>0</td>\n",
       "      <td>2</td>\n",
       "      <td>2008</td>\n",
       "      <td>WD</td>\n",
       "      <td>Normal</td>\n",
       "      <td>208500</td>\n",
       "    </tr>\n",
       "    <tr>\n",
       "      <th>1</th>\n",
       "      <td>2</td>\n",
       "      <td>20</td>\n",
       "      <td>RL</td>\n",
       "      <td>80.0</td>\n",
       "      <td>9600</td>\n",
       "      <td>Pave</td>\n",
       "      <td>NaN</td>\n",
       "      <td>Reg</td>\n",
       "      <td>Lvl</td>\n",
       "      <td>AllPub</td>\n",
       "      <td>...</td>\n",
       "      <td>0</td>\n",
       "      <td>NaN</td>\n",
       "      <td>NaN</td>\n",
       "      <td>NaN</td>\n",
       "      <td>0</td>\n",
       "      <td>5</td>\n",
       "      <td>2007</td>\n",
       "      <td>WD</td>\n",
       "      <td>Normal</td>\n",
       "      <td>181500</td>\n",
       "    </tr>\n",
       "    <tr>\n",
       "      <th>2</th>\n",
       "      <td>3</td>\n",
       "      <td>60</td>\n",
       "      <td>RL</td>\n",
       "      <td>68.0</td>\n",
       "      <td>11250</td>\n",
       "      <td>Pave</td>\n",
       "      <td>NaN</td>\n",
       "      <td>IR1</td>\n",
       "      <td>Lvl</td>\n",
       "      <td>AllPub</td>\n",
       "      <td>...</td>\n",
       "      <td>0</td>\n",
       "      <td>NaN</td>\n",
       "      <td>NaN</td>\n",
       "      <td>NaN</td>\n",
       "      <td>0</td>\n",
       "      <td>9</td>\n",
       "      <td>2008</td>\n",
       "      <td>WD</td>\n",
       "      <td>Normal</td>\n",
       "      <td>223500</td>\n",
       "    </tr>\n",
       "    <tr>\n",
       "      <th>3</th>\n",
       "      <td>4</td>\n",
       "      <td>70</td>\n",
       "      <td>RL</td>\n",
       "      <td>60.0</td>\n",
       "      <td>9550</td>\n",
       "      <td>Pave</td>\n",
       "      <td>NaN</td>\n",
       "      <td>IR1</td>\n",
       "      <td>Lvl</td>\n",
       "      <td>AllPub</td>\n",
       "      <td>...</td>\n",
       "      <td>0</td>\n",
       "      <td>NaN</td>\n",
       "      <td>NaN</td>\n",
       "      <td>NaN</td>\n",
       "      <td>0</td>\n",
       "      <td>2</td>\n",
       "      <td>2006</td>\n",
       "      <td>WD</td>\n",
       "      <td>Abnorml</td>\n",
       "      <td>140000</td>\n",
       "    </tr>\n",
       "    <tr>\n",
       "      <th>4</th>\n",
       "      <td>5</td>\n",
       "      <td>60</td>\n",
       "      <td>RL</td>\n",
       "      <td>84.0</td>\n",
       "      <td>14260</td>\n",
       "      <td>Pave</td>\n",
       "      <td>NaN</td>\n",
       "      <td>IR1</td>\n",
       "      <td>Lvl</td>\n",
       "      <td>AllPub</td>\n",
       "      <td>...</td>\n",
       "      <td>0</td>\n",
       "      <td>NaN</td>\n",
       "      <td>NaN</td>\n",
       "      <td>NaN</td>\n",
       "      <td>0</td>\n",
       "      <td>12</td>\n",
       "      <td>2008</td>\n",
       "      <td>WD</td>\n",
       "      <td>Normal</td>\n",
       "      <td>250000</td>\n",
       "    </tr>\n",
       "    <tr>\n",
       "      <th>5</th>\n",
       "      <td>6</td>\n",
       "      <td>50</td>\n",
       "      <td>RL</td>\n",
       "      <td>85.0</td>\n",
       "      <td>14115</td>\n",
       "      <td>Pave</td>\n",
       "      <td>NaN</td>\n",
       "      <td>IR1</td>\n",
       "      <td>Lvl</td>\n",
       "      <td>AllPub</td>\n",
       "      <td>...</td>\n",
       "      <td>0</td>\n",
       "      <td>NaN</td>\n",
       "      <td>MnPrv</td>\n",
       "      <td>Shed</td>\n",
       "      <td>700</td>\n",
       "      <td>10</td>\n",
       "      <td>2009</td>\n",
       "      <td>WD</td>\n",
       "      <td>Normal</td>\n",
       "      <td>143000</td>\n",
       "    </tr>\n",
       "    <tr>\n",
       "      <th>6</th>\n",
       "      <td>7</td>\n",
       "      <td>20</td>\n",
       "      <td>RL</td>\n",
       "      <td>75.0</td>\n",
       "      <td>10084</td>\n",
       "      <td>Pave</td>\n",
       "      <td>NaN</td>\n",
       "      <td>Reg</td>\n",
       "      <td>Lvl</td>\n",
       "      <td>AllPub</td>\n",
       "      <td>...</td>\n",
       "      <td>0</td>\n",
       "      <td>NaN</td>\n",
       "      <td>NaN</td>\n",
       "      <td>NaN</td>\n",
       "      <td>0</td>\n",
       "      <td>8</td>\n",
       "      <td>2007</td>\n",
       "      <td>WD</td>\n",
       "      <td>Normal</td>\n",
       "      <td>307000</td>\n",
       "    </tr>\n",
       "    <tr>\n",
       "      <th>7</th>\n",
       "      <td>8</td>\n",
       "      <td>60</td>\n",
       "      <td>RL</td>\n",
       "      <td>NaN</td>\n",
       "      <td>10382</td>\n",
       "      <td>Pave</td>\n",
       "      <td>NaN</td>\n",
       "      <td>IR1</td>\n",
       "      <td>Lvl</td>\n",
       "      <td>AllPub</td>\n",
       "      <td>...</td>\n",
       "      <td>0</td>\n",
       "      <td>NaN</td>\n",
       "      <td>NaN</td>\n",
       "      <td>Shed</td>\n",
       "      <td>350</td>\n",
       "      <td>11</td>\n",
       "      <td>2009</td>\n",
       "      <td>WD</td>\n",
       "      <td>Normal</td>\n",
       "      <td>200000</td>\n",
       "    </tr>\n",
       "    <tr>\n",
       "      <th>8</th>\n",
       "      <td>9</td>\n",
       "      <td>50</td>\n",
       "      <td>RM</td>\n",
       "      <td>51.0</td>\n",
       "      <td>6120</td>\n",
       "      <td>Pave</td>\n",
       "      <td>NaN</td>\n",
       "      <td>Reg</td>\n",
       "      <td>Lvl</td>\n",
       "      <td>AllPub</td>\n",
       "      <td>...</td>\n",
       "      <td>0</td>\n",
       "      <td>NaN</td>\n",
       "      <td>NaN</td>\n",
       "      <td>NaN</td>\n",
       "      <td>0</td>\n",
       "      <td>4</td>\n",
       "      <td>2008</td>\n",
       "      <td>WD</td>\n",
       "      <td>Abnorml</td>\n",
       "      <td>129900</td>\n",
       "    </tr>\n",
       "    <tr>\n",
       "      <th>9</th>\n",
       "      <td>10</td>\n",
       "      <td>190</td>\n",
       "      <td>RL</td>\n",
       "      <td>50.0</td>\n",
       "      <td>7420</td>\n",
       "      <td>Pave</td>\n",
       "      <td>NaN</td>\n",
       "      <td>Reg</td>\n",
       "      <td>Lvl</td>\n",
       "      <td>AllPub</td>\n",
       "      <td>...</td>\n",
       "      <td>0</td>\n",
       "      <td>NaN</td>\n",
       "      <td>NaN</td>\n",
       "      <td>NaN</td>\n",
       "      <td>0</td>\n",
       "      <td>1</td>\n",
       "      <td>2008</td>\n",
       "      <td>WD</td>\n",
       "      <td>Normal</td>\n",
       "      <td>118000</td>\n",
       "    </tr>\n",
       "  </tbody>\n",
       "</table>\n",
       "<p>10 rows × 81 columns</p>\n",
       "</div>"
      ],
      "text/plain": [
       "   Id  MSSubClass MSZoning  LotFrontage  LotArea Street Alley LotShape  \\\n",
       "0   1          60       RL         65.0     8450   Pave   NaN      Reg   \n",
       "1   2          20       RL         80.0     9600   Pave   NaN      Reg   \n",
       "2   3          60       RL         68.0    11250   Pave   NaN      IR1   \n",
       "3   4          70       RL         60.0     9550   Pave   NaN      IR1   \n",
       "4   5          60       RL         84.0    14260   Pave   NaN      IR1   \n",
       "5   6          50       RL         85.0    14115   Pave   NaN      IR1   \n",
       "6   7          20       RL         75.0    10084   Pave   NaN      Reg   \n",
       "7   8          60       RL          NaN    10382   Pave   NaN      IR1   \n",
       "8   9          50       RM         51.0     6120   Pave   NaN      Reg   \n",
       "9  10         190       RL         50.0     7420   Pave   NaN      Reg   \n",
       "\n",
       "  LandContour Utilities  ... PoolArea PoolQC  Fence MiscFeature MiscVal  \\\n",
       "0         Lvl    AllPub  ...        0    NaN    NaN         NaN       0   \n",
       "1         Lvl    AllPub  ...        0    NaN    NaN         NaN       0   \n",
       "2         Lvl    AllPub  ...        0    NaN    NaN         NaN       0   \n",
       "3         Lvl    AllPub  ...        0    NaN    NaN         NaN       0   \n",
       "4         Lvl    AllPub  ...        0    NaN    NaN         NaN       0   \n",
       "5         Lvl    AllPub  ...        0    NaN  MnPrv        Shed     700   \n",
       "6         Lvl    AllPub  ...        0    NaN    NaN         NaN       0   \n",
       "7         Lvl    AllPub  ...        0    NaN    NaN        Shed     350   \n",
       "8         Lvl    AllPub  ...        0    NaN    NaN         NaN       0   \n",
       "9         Lvl    AllPub  ...        0    NaN    NaN         NaN       0   \n",
       "\n",
       "  MoSold YrSold  SaleType  SaleCondition  SalePrice  \n",
       "0      2   2008        WD         Normal     208500  \n",
       "1      5   2007        WD         Normal     181500  \n",
       "2      9   2008        WD         Normal     223500  \n",
       "3      2   2006        WD        Abnorml     140000  \n",
       "4     12   2008        WD         Normal     250000  \n",
       "5     10   2009        WD         Normal     143000  \n",
       "6      8   2007        WD         Normal     307000  \n",
       "7     11   2009        WD         Normal     200000  \n",
       "8      4   2008        WD        Abnorml     129900  \n",
       "9      1   2008        WD         Normal     118000  \n",
       "\n",
       "[10 rows x 81 columns]"
      ]
     },
     "execution_count": 150,
     "metadata": {},
     "output_type": "execute_result"
    }
   ],
   "source": [
    "df.head(10)"
   ]
  },
  {
   "cell_type": "code",
   "execution_count": 151,
   "metadata": {},
   "outputs": [
    {
     "name": "stdout",
     "output_type": "stream",
     "text": [
      "Id                 0\n",
      "MSSubClass         0\n",
      "MSZoning           0\n",
      "LotFrontage      259\n",
      "LotArea            0\n",
      "                ... \n",
      "MoSold             0\n",
      "YrSold             0\n",
      "SaleType           0\n",
      "SaleCondition      0\n",
      "SalePrice          0\n",
      "Length: 81, dtype: int64\n"
     ]
    }
   ],
   "source": [
    "# true/false for valid/missing data\n",
    "print(df.isna().sum())"
   ]
  },
  {
   "cell_type": "code",
   "execution_count": 152,
   "metadata": {},
   "outputs": [],
   "source": [
    "#filling NA's with the mean of the column\n",
    "df=df.fillna(df.mean())"
   ]
  },
  {
   "cell_type": "code",
   "execution_count": 153,
   "metadata": {},
   "outputs": [],
   "source": [
    "#dependent variable (y)\n",
    "y=df[\"SalePrice\"]\n",
    "#independent variables (x)\n",
    "x_all=df.loc[:,\"MSSubClass\":\"SaleCondition\"]"
   ]
  },
  {
   "cell_type": "code",
   "execution_count": 154,
   "metadata": {},
   "outputs": [],
   "source": [
    "#Model 1\n",
    "#numpy linear regression\n",
    "from scipy import stats\n",
    "import numpy as np\n",
    "import statsmodels.api as sm\n",
    "import statsmodels.formula.api as smf"
   ]
  },
  {
   "cell_type": "code",
   "execution_count": 155,
   "metadata": {},
   "outputs": [],
   "source": [
    "#create dummy variables for the categorical feature\n",
    "x=pd.get_dummies(x_all)\n",
    "\n",
    "#filling NA's with the mean of the column\n",
    "x=x.fillna(x.mean())\n",
    "\n",
    "#add a constant one (x0=1)\n",
    "x = sm.add_constant(x, prepend=True)"
   ]
  },
  {
   "cell_type": "code",
   "execution_count": 156,
   "metadata": {},
   "outputs": [
    {
     "data": {
      "text/html": [
       "<div>\n",
       "<style scoped>\n",
       "    .dataframe tbody tr th:only-of-type {\n",
       "        vertical-align: middle;\n",
       "    }\n",
       "\n",
       "    .dataframe tbody tr th {\n",
       "        vertical-align: top;\n",
       "    }\n",
       "\n",
       "    .dataframe thead th {\n",
       "        text-align: right;\n",
       "    }\n",
       "</style>\n",
       "<table border=\"1\" class=\"dataframe\">\n",
       "  <thead>\n",
       "    <tr style=\"text-align: right;\">\n",
       "      <th></th>\n",
       "      <th>const</th>\n",
       "      <th>MSSubClass</th>\n",
       "      <th>LotFrontage</th>\n",
       "      <th>LotArea</th>\n",
       "      <th>OverallQual</th>\n",
       "      <th>OverallCond</th>\n",
       "      <th>YearBuilt</th>\n",
       "      <th>YearRemodAdd</th>\n",
       "      <th>MasVnrArea</th>\n",
       "      <th>BsmtFinSF1</th>\n",
       "      <th>...</th>\n",
       "      <th>SaleType_ConLw</th>\n",
       "      <th>SaleType_New</th>\n",
       "      <th>SaleType_Oth</th>\n",
       "      <th>SaleType_WD</th>\n",
       "      <th>SaleCondition_Abnorml</th>\n",
       "      <th>SaleCondition_AdjLand</th>\n",
       "      <th>SaleCondition_Alloca</th>\n",
       "      <th>SaleCondition_Family</th>\n",
       "      <th>SaleCondition_Normal</th>\n",
       "      <th>SaleCondition_Partial</th>\n",
       "    </tr>\n",
       "  </thead>\n",
       "  <tbody>\n",
       "    <tr>\n",
       "      <th>0</th>\n",
       "      <td>1.0</td>\n",
       "      <td>60</td>\n",
       "      <td>65.000000</td>\n",
       "      <td>8450</td>\n",
       "      <td>7</td>\n",
       "      <td>5</td>\n",
       "      <td>2003</td>\n",
       "      <td>2003</td>\n",
       "      <td>196.0</td>\n",
       "      <td>706</td>\n",
       "      <td>...</td>\n",
       "      <td>0</td>\n",
       "      <td>0</td>\n",
       "      <td>0</td>\n",
       "      <td>1</td>\n",
       "      <td>0</td>\n",
       "      <td>0</td>\n",
       "      <td>0</td>\n",
       "      <td>0</td>\n",
       "      <td>1</td>\n",
       "      <td>0</td>\n",
       "    </tr>\n",
       "    <tr>\n",
       "      <th>1</th>\n",
       "      <td>1.0</td>\n",
       "      <td>20</td>\n",
       "      <td>80.000000</td>\n",
       "      <td>9600</td>\n",
       "      <td>6</td>\n",
       "      <td>8</td>\n",
       "      <td>1976</td>\n",
       "      <td>1976</td>\n",
       "      <td>0.0</td>\n",
       "      <td>978</td>\n",
       "      <td>...</td>\n",
       "      <td>0</td>\n",
       "      <td>0</td>\n",
       "      <td>0</td>\n",
       "      <td>1</td>\n",
       "      <td>0</td>\n",
       "      <td>0</td>\n",
       "      <td>0</td>\n",
       "      <td>0</td>\n",
       "      <td>1</td>\n",
       "      <td>0</td>\n",
       "    </tr>\n",
       "    <tr>\n",
       "      <th>2</th>\n",
       "      <td>1.0</td>\n",
       "      <td>60</td>\n",
       "      <td>68.000000</td>\n",
       "      <td>11250</td>\n",
       "      <td>7</td>\n",
       "      <td>5</td>\n",
       "      <td>2001</td>\n",
       "      <td>2002</td>\n",
       "      <td>162.0</td>\n",
       "      <td>486</td>\n",
       "      <td>...</td>\n",
       "      <td>0</td>\n",
       "      <td>0</td>\n",
       "      <td>0</td>\n",
       "      <td>1</td>\n",
       "      <td>0</td>\n",
       "      <td>0</td>\n",
       "      <td>0</td>\n",
       "      <td>0</td>\n",
       "      <td>1</td>\n",
       "      <td>0</td>\n",
       "    </tr>\n",
       "    <tr>\n",
       "      <th>3</th>\n",
       "      <td>1.0</td>\n",
       "      <td>70</td>\n",
       "      <td>60.000000</td>\n",
       "      <td>9550</td>\n",
       "      <td>7</td>\n",
       "      <td>5</td>\n",
       "      <td>1915</td>\n",
       "      <td>1970</td>\n",
       "      <td>0.0</td>\n",
       "      <td>216</td>\n",
       "      <td>...</td>\n",
       "      <td>0</td>\n",
       "      <td>0</td>\n",
       "      <td>0</td>\n",
       "      <td>1</td>\n",
       "      <td>1</td>\n",
       "      <td>0</td>\n",
       "      <td>0</td>\n",
       "      <td>0</td>\n",
       "      <td>0</td>\n",
       "      <td>0</td>\n",
       "    </tr>\n",
       "    <tr>\n",
       "      <th>4</th>\n",
       "      <td>1.0</td>\n",
       "      <td>60</td>\n",
       "      <td>84.000000</td>\n",
       "      <td>14260</td>\n",
       "      <td>8</td>\n",
       "      <td>5</td>\n",
       "      <td>2000</td>\n",
       "      <td>2000</td>\n",
       "      <td>350.0</td>\n",
       "      <td>655</td>\n",
       "      <td>...</td>\n",
       "      <td>0</td>\n",
       "      <td>0</td>\n",
       "      <td>0</td>\n",
       "      <td>1</td>\n",
       "      <td>0</td>\n",
       "      <td>0</td>\n",
       "      <td>0</td>\n",
       "      <td>0</td>\n",
       "      <td>1</td>\n",
       "      <td>0</td>\n",
       "    </tr>\n",
       "    <tr>\n",
       "      <th>5</th>\n",
       "      <td>1.0</td>\n",
       "      <td>50</td>\n",
       "      <td>85.000000</td>\n",
       "      <td>14115</td>\n",
       "      <td>5</td>\n",
       "      <td>5</td>\n",
       "      <td>1993</td>\n",
       "      <td>1995</td>\n",
       "      <td>0.0</td>\n",
       "      <td>732</td>\n",
       "      <td>...</td>\n",
       "      <td>0</td>\n",
       "      <td>0</td>\n",
       "      <td>0</td>\n",
       "      <td>1</td>\n",
       "      <td>0</td>\n",
       "      <td>0</td>\n",
       "      <td>0</td>\n",
       "      <td>0</td>\n",
       "      <td>1</td>\n",
       "      <td>0</td>\n",
       "    </tr>\n",
       "    <tr>\n",
       "      <th>6</th>\n",
       "      <td>1.0</td>\n",
       "      <td>20</td>\n",
       "      <td>75.000000</td>\n",
       "      <td>10084</td>\n",
       "      <td>8</td>\n",
       "      <td>5</td>\n",
       "      <td>2004</td>\n",
       "      <td>2005</td>\n",
       "      <td>186.0</td>\n",
       "      <td>1369</td>\n",
       "      <td>...</td>\n",
       "      <td>0</td>\n",
       "      <td>0</td>\n",
       "      <td>0</td>\n",
       "      <td>1</td>\n",
       "      <td>0</td>\n",
       "      <td>0</td>\n",
       "      <td>0</td>\n",
       "      <td>0</td>\n",
       "      <td>1</td>\n",
       "      <td>0</td>\n",
       "    </tr>\n",
       "    <tr>\n",
       "      <th>7</th>\n",
       "      <td>1.0</td>\n",
       "      <td>60</td>\n",
       "      <td>70.049958</td>\n",
       "      <td>10382</td>\n",
       "      <td>7</td>\n",
       "      <td>6</td>\n",
       "      <td>1973</td>\n",
       "      <td>1973</td>\n",
       "      <td>240.0</td>\n",
       "      <td>859</td>\n",
       "      <td>...</td>\n",
       "      <td>0</td>\n",
       "      <td>0</td>\n",
       "      <td>0</td>\n",
       "      <td>1</td>\n",
       "      <td>0</td>\n",
       "      <td>0</td>\n",
       "      <td>0</td>\n",
       "      <td>0</td>\n",
       "      <td>1</td>\n",
       "      <td>0</td>\n",
       "    </tr>\n",
       "    <tr>\n",
       "      <th>8</th>\n",
       "      <td>1.0</td>\n",
       "      <td>50</td>\n",
       "      <td>51.000000</td>\n",
       "      <td>6120</td>\n",
       "      <td>7</td>\n",
       "      <td>5</td>\n",
       "      <td>1931</td>\n",
       "      <td>1950</td>\n",
       "      <td>0.0</td>\n",
       "      <td>0</td>\n",
       "      <td>...</td>\n",
       "      <td>0</td>\n",
       "      <td>0</td>\n",
       "      <td>0</td>\n",
       "      <td>1</td>\n",
       "      <td>1</td>\n",
       "      <td>0</td>\n",
       "      <td>0</td>\n",
       "      <td>0</td>\n",
       "      <td>0</td>\n",
       "      <td>0</td>\n",
       "    </tr>\n",
       "    <tr>\n",
       "      <th>9</th>\n",
       "      <td>1.0</td>\n",
       "      <td>190</td>\n",
       "      <td>50.000000</td>\n",
       "      <td>7420</td>\n",
       "      <td>5</td>\n",
       "      <td>6</td>\n",
       "      <td>1939</td>\n",
       "      <td>1950</td>\n",
       "      <td>0.0</td>\n",
       "      <td>851</td>\n",
       "      <td>...</td>\n",
       "      <td>0</td>\n",
       "      <td>0</td>\n",
       "      <td>0</td>\n",
       "      <td>1</td>\n",
       "      <td>0</td>\n",
       "      <td>0</td>\n",
       "      <td>0</td>\n",
       "      <td>0</td>\n",
       "      <td>1</td>\n",
       "      <td>0</td>\n",
       "    </tr>\n",
       "  </tbody>\n",
       "</table>\n",
       "<p>10 rows × 289 columns</p>\n",
       "</div>"
      ],
      "text/plain": [
       "   const  MSSubClass  LotFrontage  LotArea  OverallQual  OverallCond  \\\n",
       "0    1.0          60    65.000000     8450            7            5   \n",
       "1    1.0          20    80.000000     9600            6            8   \n",
       "2    1.0          60    68.000000    11250            7            5   \n",
       "3    1.0          70    60.000000     9550            7            5   \n",
       "4    1.0          60    84.000000    14260            8            5   \n",
       "5    1.0          50    85.000000    14115            5            5   \n",
       "6    1.0          20    75.000000    10084            8            5   \n",
       "7    1.0          60    70.049958    10382            7            6   \n",
       "8    1.0          50    51.000000     6120            7            5   \n",
       "9    1.0         190    50.000000     7420            5            6   \n",
       "\n",
       "   YearBuilt  YearRemodAdd  MasVnrArea  BsmtFinSF1  ...  SaleType_ConLw  \\\n",
       "0       2003          2003       196.0         706  ...               0   \n",
       "1       1976          1976         0.0         978  ...               0   \n",
       "2       2001          2002       162.0         486  ...               0   \n",
       "3       1915          1970         0.0         216  ...               0   \n",
       "4       2000          2000       350.0         655  ...               0   \n",
       "5       1993          1995         0.0         732  ...               0   \n",
       "6       2004          2005       186.0        1369  ...               0   \n",
       "7       1973          1973       240.0         859  ...               0   \n",
       "8       1931          1950         0.0           0  ...               0   \n",
       "9       1939          1950         0.0         851  ...               0   \n",
       "\n",
       "   SaleType_New  SaleType_Oth  SaleType_WD  SaleCondition_Abnorml  \\\n",
       "0             0             0            1                      0   \n",
       "1             0             0            1                      0   \n",
       "2             0             0            1                      0   \n",
       "3             0             0            1                      1   \n",
       "4             0             0            1                      0   \n",
       "5             0             0            1                      0   \n",
       "6             0             0            1                      0   \n",
       "7             0             0            1                      0   \n",
       "8             0             0            1                      1   \n",
       "9             0             0            1                      0   \n",
       "\n",
       "   SaleCondition_AdjLand  SaleCondition_Alloca  SaleCondition_Family  \\\n",
       "0                      0                     0                     0   \n",
       "1                      0                     0                     0   \n",
       "2                      0                     0                     0   \n",
       "3                      0                     0                     0   \n",
       "4                      0                     0                     0   \n",
       "5                      0                     0                     0   \n",
       "6                      0                     0                     0   \n",
       "7                      0                     0                     0   \n",
       "8                      0                     0                     0   \n",
       "9                      0                     0                     0   \n",
       "\n",
       "   SaleCondition_Normal  SaleCondition_Partial  \n",
       "0                     1                      0  \n",
       "1                     1                      0  \n",
       "2                     1                      0  \n",
       "3                     0                      0  \n",
       "4                     1                      0  \n",
       "5                     1                      0  \n",
       "6                     1                      0  \n",
       "7                     1                      0  \n",
       "8                     0                      0  \n",
       "9                     1                      0  \n",
       "\n",
       "[10 rows x 289 columns]"
      ]
     },
     "execution_count": 156,
     "metadata": {},
     "output_type": "execute_result"
    }
   ],
   "source": [
    "x.head(10)"
   ]
  },
  {
   "cell_type": "code",
   "execution_count": 157,
   "metadata": {},
   "outputs": [
    {
     "name": "stdout",
     "output_type": "stream",
     "text": [
      "                            OLS Regression Results                            \n",
      "==============================================================================\n",
      "Dep. Variable:              SalePrice   R-squared:                       0.933\n",
      "Model:                            OLS   Adj. R-squared:                  0.919\n",
      "Method:                 Least Squares   F-statistic:                     66.67\n",
      "Date:                Wed, 09 Dec 2020   Prob (F-statistic):               0.00\n",
      "Time:                        21:00:28   Log-Likelihood:                -16568.\n",
      "No. Observations:                1460   AIC:                         3.364e+04\n",
      "Df Residuals:                    1206   BIC:                         3.499e+04\n",
      "Df Model:                         253                                         \n",
      "Covariance Type:            nonrobust                                         \n",
      "=========================================================================================\n",
      "                            coef    std err          t      P>|t|      [0.025      0.975]\n",
      "-----------------------------------------------------------------------------------------\n",
      "const                  2.947e+04   1.55e+05      0.190      0.850   -2.75e+05    3.34e+05\n",
      "MSSubClass              -56.2372     82.597     -0.681      0.496    -218.286     105.812\n",
      "LotFrontage              43.0008     43.950      0.978      0.328     -43.226     129.227\n",
      "LotArea                   0.7065      0.109      6.462      0.000       0.492       0.921\n",
      "OverallQual            6813.0564   1012.800      6.727      0.000    4826.011    8800.102\n",
      "OverallCond            5796.7223    870.860      6.656      0.000    4088.154    7505.291\n",
      "YearBuilt               319.6074     76.938      4.154      0.000     168.661     470.554\n",
      "YearRemodAdd            104.2264     55.731      1.870      0.062      -5.114     213.566\n",
      "MasVnrArea               20.7223      5.782      3.584      0.000       9.378      32.067\n",
      "BsmtFinSF1               15.8251      2.890      5.475      0.000      10.154      21.496\n",
      "BsmtFinSF2                8.7688      5.967      1.469      0.142      -2.939      20.477\n",
      "BsmtUnfSF                -1.8064      2.765     -0.653      0.514      -7.232       3.619\n",
      "TotalBsmtSF              22.7876      4.059      5.614      0.000      14.823      30.752\n",
      "1stFlrSF                 18.6926      6.378      2.931      0.003       6.179      31.206\n",
      "2ndFlrSF                 36.5205      5.461      6.688      0.000      25.807      47.234\n",
      "LowQualFinSF            -29.5607     13.905     -2.126      0.034     -56.841      -2.280\n",
      "GrLivArea                25.6525      5.696      4.504      0.000      14.477      36.828\n",
      "BsmtFullBath           1620.8175   1977.999      0.819      0.413   -2259.884    5501.519\n",
      "BsmtHalfBath           -390.1741   3023.713     -0.129      0.897   -6322.497    5542.149\n",
      "FullBath               3678.8486   2197.348      1.674      0.094    -632.200    7989.898\n",
      "HalfBath               1882.7759   2094.621      0.899      0.369   -2226.730    5992.282\n",
      "BedroomAbvGr          -3660.8139   1363.663     -2.685      0.007   -6336.228    -985.399\n",
      "KitchenAbvGr          -1.358e+04   5686.424     -2.387      0.017   -2.47e+04   -2419.717\n",
      "TotRmsAbvGrd           1769.8579    955.814      1.852      0.064    -105.386    3645.101\n",
      "Fireplaces             6252.2574   2553.012      2.449      0.014    1243.419    1.13e+04\n",
      "GarageYrBlt             -17.6673     61.248     -0.288      0.773    -137.831     102.496\n",
      "GarageCars             3892.2531   2275.577      1.710      0.087    -572.277    8356.783\n",
      "GarageArea               18.3416      7.891      2.325      0.020       2.861      33.822\n",
      "WoodDeckSF               15.1166      5.870      2.575      0.010       3.601      26.632\n",
      "OpenPorchSF               0.8612     11.559      0.075      0.941     -21.817      23.540\n",
      "EnclosedPorch             2.9232     12.466      0.234      0.815     -21.534      27.380\n",
      "3SsnPorch                33.0959     22.347      1.481      0.139     -10.747      76.939\n",
      "ScreenPorch              35.8189     12.487      2.869      0.004      11.321      60.317\n",
      "PoolArea                685.3756    226.508      3.026      0.003     240.981    1129.770\n",
      "MiscVal                   0.0246      6.110      0.004      0.997     -11.962      12.011\n",
      "MoSold                 -459.4559    244.797     -1.877      0.061    -939.732      20.820\n",
      "YrSold                 -563.4905    514.662     -1.095      0.274   -1573.222     446.241\n",
      "MSZoning_C (all)      -1.458e+04   3.25e+04     -0.449      0.654   -7.83e+04    4.92e+04\n",
      "MSZoning_FV            1.809e+04   3.19e+04      0.567      0.570   -4.45e+04    8.06e+04\n",
      "MSZoning_RH            8005.2855   3.12e+04      0.256      0.798   -5.33e+04    6.93e+04\n",
      "MSZoning_RL            1.066e+04    3.1e+04      0.344      0.731   -5.02e+04    7.15e+04\n",
      "MSZoning_RM            7299.6899   3.12e+04      0.234      0.815    -5.4e+04    6.86e+04\n",
      "Street_Grvl           -1847.4325    7.8e+04     -0.024      0.981   -1.55e+05    1.51e+05\n",
      "Street_Pave            3.132e+04   7.78e+04      0.402      0.688   -1.21e+05    1.84e+05\n",
      "Alley_Grvl             1473.0417   4210.616      0.350      0.727   -6787.906    9733.989\n",
      "Alley_Pave              953.9662   4758.544      0.200      0.841   -8381.978    1.03e+04\n",
      "LotShape_IR1           4356.2571   3.89e+04      0.112      0.911    -7.2e+04    8.07e+04\n",
      "LotShape_IR2           9293.8556    3.9e+04      0.238      0.812   -6.73e+04    8.59e+04\n",
      "LotShape_IR3           9652.0100   3.93e+04      0.245      0.806   -6.75e+04    8.68e+04\n",
      "LotShape_Reg           6168.6351    3.9e+04      0.158      0.874   -7.03e+04    8.26e+04\n",
      "LandContour_Bnk        6908.6751    3.9e+04      0.177      0.859   -6.96e+04    8.34e+04\n",
      "LandContour_HLS        1.451e+04    3.9e+04      0.372      0.710    -6.2e+04    9.11e+04\n",
      "LandContour_Low       -4330.6290    3.9e+04     -0.111      0.911   -8.08e+04    7.21e+04\n",
      "LandContour_Lvl        1.238e+04   3.89e+04      0.318      0.751    -6.4e+04    8.88e+04\n",
      "Utilities_AllPub        3.33e+04   7.88e+04      0.423      0.673   -1.21e+05    1.88e+05\n",
      "Utilities_NoSeWa      -3827.0423   7.88e+04     -0.049      0.961   -1.58e+05    1.51e+05\n",
      "LotConfig_Corner       9283.0243   3.13e+04      0.297      0.767   -5.21e+04    7.07e+04\n",
      "LotConfig_CulDSac      1.786e+04   3.15e+04      0.567      0.571    -4.4e+04    7.97e+04\n",
      "LotConfig_FR2          1928.3263   3.15e+04      0.061      0.951   -5.99e+04    6.38e+04\n",
      "LotConfig_FR3         -7654.1694    3.2e+04     -0.239      0.811   -7.05e+04    5.52e+04\n",
      "LotConfig_Inside       8050.3238   3.13e+04      0.257      0.797   -5.34e+04    6.95e+04\n",
      "LandSlope_Gtl           2.11e+04   5.19e+04      0.406      0.684   -8.07e+04    1.23e+05\n",
      "LandSlope_Mod          2.849e+04   5.19e+04      0.549      0.583   -7.34e+04     1.3e+05\n",
      "LandSlope_Sev         -2.012e+04   5.24e+04     -0.384      0.701   -1.23e+05    8.28e+04\n",
      "Neighborhood_Blmngtn   4142.6262   9512.119      0.436      0.663   -1.45e+04    2.28e+04\n",
      "Neighborhood_Blueste   1.222e+04   1.82e+04      0.670      0.503   -2.36e+04     4.8e+04\n",
      "Neighborhood_BrDale    2046.9123   9948.862      0.206      0.837   -1.75e+04    2.16e+04\n",
      "Neighborhood_BrkSide  -1437.7332   7546.077     -0.191      0.849   -1.62e+04    1.34e+04\n",
      "Neighborhood_ClearCr  -1.038e+04   8459.822     -1.226      0.220    -2.7e+04    6222.360\n",
      "Neighborhood_CollgCr  -6100.7504   7009.366     -0.870      0.384   -1.99e+04    7651.156\n",
      "Neighborhood_Crawfor   1.601e+04   7323.820      2.186      0.029    1638.588    3.04e+04\n",
      "Neighborhood_Edwards  -1.731e+04   6997.301     -2.474      0.014    -3.1e+04   -3579.746\n",
      "Neighborhood_Gilbert  -7243.4630   7436.598     -0.974      0.330   -2.18e+04    7346.644\n",
      "Neighborhood_IDOTRR   -7786.7398   8544.927     -0.911      0.362   -2.46e+04    8977.834\n",
      "Neighborhood_MeadowV  -2759.2024   1.02e+04     -0.271      0.787   -2.27e+04    1.72e+04\n",
      "Neighborhood_Mitchel  -1.691e+04   7372.195     -2.294      0.022   -3.14e+04   -2450.130\n",
      "Neighborhood_NAmes    -1.322e+04   6726.585     -1.966      0.050   -2.64e+04     -25.986\n",
      "Neighborhood_NPkVill   1.729e+04   1.38e+04      1.250      0.212   -9854.981    4.44e+04\n",
      "Neighborhood_NWAmes   -1.322e+04   7160.375     -1.846      0.065   -2.73e+04     827.121\n",
      "Neighborhood_NoRidge   2.945e+04   8150.614      3.613      0.000    1.35e+04    4.54e+04\n",
      "Neighborhood_NridgHt   2.201e+04   7627.262      2.886      0.004    7047.580     3.7e+04\n",
      "Neighborhood_OldTown  -1.009e+04   7576.845     -1.332      0.183    -2.5e+04    4770.784\n",
      "Neighborhood_SWISU    -4176.2767   8719.334     -0.479      0.632   -2.13e+04    1.29e+04\n",
      "Neighborhood_Sawyer   -7061.6138   7041.296     -1.003      0.316   -2.09e+04    6752.938\n",
      "Neighborhood_SawyerW   1241.1361   7514.467      0.165      0.869   -1.35e+04     1.6e+04\n",
      "Neighborhood_Somerst   1662.7483   8586.980      0.194      0.846   -1.52e+04    1.85e+04\n",
      "Neighborhood_StoneBr   4.322e+04   8622.654      5.013      0.000    2.63e+04    6.01e+04\n",
      "Neighborhood_Timber   -5880.2785   7965.677     -0.738      0.461   -2.15e+04    9747.846\n",
      "Neighborhood_Veenker   3764.9158   9569.646      0.393      0.694    -1.5e+04    2.25e+04\n",
      "Condition1_Artery     -2615.1173   1.79e+04     -0.146      0.884   -3.77e+04    3.25e+04\n",
      "Condition1_Feedr       4512.6693   1.76e+04      0.256      0.798   -3.01e+04    3.91e+04\n",
      "Condition1_Norm        1.369e+04   1.74e+04      0.785      0.433   -2.05e+04    4.79e+04\n",
      "Condition1_PosA        6481.4451   1.93e+04      0.336      0.737   -3.14e+04    4.43e+04\n",
      "Condition1_PosN        1.245e+04   1.86e+04      0.669      0.504   -2.41e+04     4.9e+04\n",
      "Condition1_RRAe       -1.807e+04   1.86e+04     -0.971      0.332   -5.46e+04    1.84e+04\n",
      "Condition1_RRAn        1.048e+04    1.8e+04      0.581      0.561   -2.49e+04    4.59e+04\n",
      "Condition1_RRNe       -6295.0649    2.3e+04     -0.273      0.785   -5.15e+04    3.89e+04\n",
      "Condition1_RRNn        8835.4137   2.05e+04      0.431      0.667   -3.14e+04    4.91e+04\n",
      "Condition2_Artery       4.92e+04   2.83e+04      1.738      0.082   -6325.261    1.05e+05\n",
      "Condition2_Feedr       4.363e+04   2.47e+04      1.766      0.078   -4838.584    9.21e+04\n",
      "Condition2_Norm        3.932e+04   2.21e+04      1.783      0.075   -3951.519    8.26e+04\n",
      "Condition2_PosA        9.161e+04   3.55e+04      2.580      0.010    2.19e+04    1.61e+05\n",
      "Condition2_PosN       -1.902e+05   2.72e+04     -6.990      0.000   -2.44e+05   -1.37e+05\n",
      "Condition2_RRAe       -7.735e+04    5.8e+04     -1.333      0.183   -1.91e+05    3.65e+04\n",
      "Condition2_RRAn        2.646e+04      3e+04      0.881      0.379   -3.25e+04    8.54e+04\n",
      "Condition2_RRNn        4.679e+04   2.67e+04      1.752      0.080   -5596.916    9.92e+04\n",
      "BldgType_1Fam          1.448e+04   3.17e+04      0.456      0.648   -4.78e+04    7.67e+04\n",
      "BldgType_2fmCon        1.147e+04   3.18e+04      0.361      0.718   -5.09e+04    7.38e+04\n",
      "BldgType_Duplex        7330.2032   3.15e+04      0.233      0.816   -5.45e+04    6.91e+04\n",
      "BldgType_Twnhs        -3840.2911   3.15e+04     -0.122      0.903   -6.57e+04     5.8e+04\n",
      "BldgType_TwnhsE          30.4768   3.14e+04      0.001      0.999   -6.17e+04    6.17e+04\n",
      "HouseStyle_1.5Fin      5079.4265   1.96e+04      0.259      0.796   -3.35e+04    4.36e+04\n",
      "HouseStyle_1.5Unf      1.688e+04   2.05e+04      0.822      0.411   -2.34e+04    5.72e+04\n",
      "HouseStyle_1Story      1.013e+04   1.98e+04      0.510      0.610   -2.88e+04    4.91e+04\n",
      "HouseStyle_2.5Fin     -1.233e+04   2.28e+04     -0.541      0.588    -5.7e+04    3.24e+04\n",
      "HouseStyle_2.5Unf     -4271.3543   2.08e+04     -0.205      0.837   -4.51e+04    3.65e+04\n",
      "HouseStyle_2Story      -909.0938   1.97e+04     -0.046      0.963   -3.95e+04    3.77e+04\n",
      "HouseStyle_SFoyer      6234.3216   2.02e+04      0.309      0.757   -3.33e+04    4.58e+04\n",
      "HouseStyle_SLvl        8663.6387      2e+04      0.433      0.665   -3.06e+04     4.8e+04\n",
      "RoofStyle_Flat        -2.013e+04   3.01e+04     -0.669      0.504   -7.92e+04    3.89e+04\n",
      "RoofStyle_Gable       -1.061e+04   2.67e+04     -0.398      0.691    -6.3e+04    4.18e+04\n",
      "RoofStyle_Gambrel     -7272.1413   2.73e+04     -0.267      0.790   -6.07e+04    4.62e+04\n",
      "RoofStyle_Hip         -1.083e+04   2.67e+04     -0.405      0.685   -6.32e+04    4.16e+04\n",
      "RoofStyle_Mansard      -361.9742   2.78e+04     -0.013      0.990    -5.5e+04    5.43e+04\n",
      "RoofStyle_Shed         7.867e+04   3.64e+04      2.159      0.031    7181.084     1.5e+05\n",
      "RoofMatl_ClyTile       -5.24e+05   5.16e+04    -10.150      0.000   -6.25e+05   -4.23e+05\n",
      "RoofMatl_CompShg       5.146e+04   2.24e+04      2.294      0.022    7445.548    9.55e+04\n",
      "RoofMatl_Membran       1.463e+05   3.33e+04      4.387      0.000    8.09e+04    2.12e+05\n",
      "RoofMatl_Metal         1.144e+05   3.27e+04      3.500      0.000    5.03e+04    1.79e+05\n",
      "RoofMatl_Roll          3.927e+04    3.1e+04      1.266      0.206   -2.16e+04       1e+05\n",
      "RoofMatl_Tar&Grv        5.22e+04   2.52e+04      2.068      0.039    2670.843    1.02e+05\n",
      "RoofMatl_WdShake       4.372e+04   2.58e+04      1.696      0.090   -6841.405    9.43e+04\n",
      "RoofMatl_WdShngl       1.061e+05   2.42e+04      4.383      0.000    5.86e+04    1.54e+05\n",
      "Exterior1st_AsbShng    1.164e+04   1.54e+04      0.754      0.451   -1.86e+04    4.19e+04\n",
      "Exterior1st_AsphShn   -1.224e+04   3.12e+04     -0.392      0.695   -7.35e+04     4.9e+04\n",
      "Exterior1st_BrkComm    8095.6176   2.58e+04      0.314      0.754   -4.25e+04    5.87e+04\n",
      "Exterior1st_BrkFace    1.945e+04   1.22e+04      1.592      0.112   -4527.520    4.34e+04\n",
      "Exterior1st_CBlock    -3022.9189   1.61e+04     -0.188      0.851   -3.46e+04    2.86e+04\n",
      "Exterior1st_CemntBd     229.0717   1.75e+04      0.013      0.990   -3.41e+04    3.45e+04\n",
      "Exterior1st_HdBoard   -1187.7291   1.17e+04     -0.101      0.919   -2.42e+04    2.18e+04\n",
      "Exterior1st_ImStucc   -1.052e+04   2.57e+04     -0.409      0.682    -6.1e+04    3.99e+04\n",
      "Exterior1st_MetalSd    6007.3550   1.35e+04      0.444      0.657   -2.05e+04    3.25e+04\n",
      "Exterior1st_Plywood   -1947.0499   1.19e+04     -0.163      0.871   -2.54e+04    2.15e+04\n",
      "Exterior1st_Stone      9993.0398   2.25e+04      0.445      0.656   -3.41e+04     5.4e+04\n",
      "Exterior1st_Stucco     4569.1711   1.35e+04      0.337      0.736    -2.2e+04    3.11e+04\n",
      "Exterior1st_VinylSd   -1938.5053    1.3e+04     -0.149      0.882   -2.75e+04    2.36e+04\n",
      "Exterior1st_Wd Sdng   -2018.5246   1.16e+04     -0.174      0.862   -2.48e+04    2.08e+04\n",
      "Exterior1st_WdShing    2364.7226   1.22e+04      0.194      0.846   -2.16e+04    2.63e+04\n",
      "Exterior2nd_AsbShng   -2854.8540   1.49e+04     -0.192      0.848   -3.21e+04    2.64e+04\n",
      "Exterior2nd_AsphShn    8405.7962   2.01e+04      0.419      0.675    -3.1e+04    4.78e+04\n",
      "Exterior2nd_Brk Cmn    2738.7820   1.86e+04      0.147      0.883   -3.38e+04    3.93e+04\n",
      "Exterior2nd_BrkFace    1034.2530    1.2e+04      0.086      0.931   -2.25e+04    2.46e+04\n",
      "Exterior2nd_CBlock    -3022.9189   1.61e+04     -0.188      0.851   -3.46e+04    2.86e+04\n",
      "Exterior2nd_CmentBd    9272.8633   1.76e+04      0.526      0.599   -2.53e+04    4.38e+04\n",
      "Exterior2nd_HdBoard    5163.8761    1.1e+04      0.468      0.640   -1.65e+04    2.68e+04\n",
      "Exterior2nd_ImStucc    1.383e+04    1.3e+04      1.064      0.288   -1.17e+04    3.93e+04\n",
      "Exterior2nd_MetalSd    2617.6301   1.25e+04      0.210      0.834   -2.18e+04    2.71e+04\n",
      "Exterior2nd_Other     -2.131e+04    2.5e+04     -0.851      0.395   -7.04e+04    2.78e+04\n",
      "Exterior2nd_Plywood    3376.5565   1.09e+04      0.311      0.756   -1.79e+04    2.47e+04\n",
      "Exterior2nd_Stone     -1.314e+04   1.54e+04     -0.856      0.392   -4.33e+04     1.7e+04\n",
      "Exterior2nd_Stucco     2497.9028   1.26e+04      0.198      0.843   -2.23e+04    2.73e+04\n",
      "Exterior2nd_VinylSd    9692.8588   1.18e+04      0.823      0.411   -1.34e+04    3.28e+04\n",
      "Exterior2nd_Wd Sdng    8764.0082   1.08e+04      0.815      0.415   -1.23e+04    2.99e+04\n",
      "Exterior2nd_Wd Shng    2402.4130   1.12e+04      0.215      0.830   -1.96e+04    2.44e+04\n",
      "MasVnrType_BrkCmn      -235.1854   1.08e+04     -0.022      0.983   -2.15e+04     2.1e+04\n",
      "MasVnrType_BrkFace     3985.0734   8664.013      0.460      0.646    -1.3e+04     2.1e+04\n",
      "MasVnrType_None        7091.0188   8591.481      0.825      0.409   -9764.892    2.39e+04\n",
      "MasVnrType_Stone       9066.6558   8765.109      1.034      0.301   -8129.900    2.63e+04\n",
      "ExterQual_Ex           1.949e+04   3.92e+04      0.497      0.619   -5.74e+04    9.64e+04\n",
      "ExterQual_Fa           1.194e+04   3.99e+04      0.300      0.765   -6.63e+04    9.01e+04\n",
      "ExterQual_Gd          -1312.2480   3.88e+04     -0.034      0.973   -7.74e+04    7.48e+04\n",
      "ExterQual_TA           -644.4942   3.88e+04     -0.017      0.987   -7.67e+04    7.54e+04\n",
      "ExterCond_Ex           7199.7540   3.44e+04      0.209      0.834   -6.03e+04    7.47e+04\n",
      "ExterCond_Fa           4269.4000   3.18e+04      0.134      0.893   -5.81e+04    6.66e+04\n",
      "ExterCond_Gd           -127.0829   3.15e+04     -0.004      0.997    -6.2e+04    6.17e+04\n",
      "ExterCond_Po           1.525e+04   3.84e+04      0.397      0.691      -6e+04    9.05e+04\n",
      "ExterCond_TA           2876.6080   3.14e+04      0.092      0.927   -5.87e+04    6.45e+04\n",
      "Foundation_BrkTil      7872.8356   2.61e+04      0.302      0.763   -4.33e+04     5.9e+04\n",
      "Foundation_CBlock      1.067e+04   2.61e+04      0.410      0.682   -4.05e+04    6.18e+04\n",
      "Foundation_PConc       1.187e+04   2.61e+04      0.454      0.650   -3.94e+04    6.31e+04\n",
      "Foundation_Slab         851.3048    2.7e+04      0.032      0.975   -5.21e+04    5.38e+04\n",
      "Foundation_Stone        1.77e+04   2.81e+04      0.631      0.528   -3.74e+04    7.28e+04\n",
      "Foundation_Wood        -1.95e+04   2.89e+04     -0.675      0.500   -7.61e+04    3.71e+04\n",
      "BsmtQual_Ex            -481.4664   1.43e+04     -0.034      0.973   -2.85e+04    2.76e+04\n",
      "BsmtQual_Fa           -1.159e+04    1.4e+04     -0.826      0.409   -3.91e+04     1.6e+04\n",
      "BsmtQual_Gd           -1.831e+04   1.39e+04     -1.314      0.189   -4.56e+04    9023.574\n",
      "BsmtQual_TA           -1.445e+04   1.38e+04     -1.046      0.296   -4.16e+04    1.27e+04\n",
      "BsmtCond_Fa           -2.846e+04   1.46e+04     -1.948      0.052   -5.71e+04     203.910\n",
      "BsmtCond_Gd           -2.849e+04   1.47e+04     -1.944      0.052   -5.72e+04     269.458\n",
      "BsmtCond_Po            3.795e+04   2.84e+04      1.336      0.182   -1.78e+04    9.37e+04\n",
      "BsmtCond_TA           -2.584e+04   1.44e+04     -1.793      0.073   -5.41e+04    2428.866\n",
      "BsmtExposure_Av        1.067e+04    2.3e+04      0.465      0.642   -3.44e+04    5.57e+04\n",
      "BsmtExposure_Gd        2.494e+04   2.31e+04      1.082      0.280   -2.03e+04    7.02e+04\n",
      "BsmtExposure_Mn        7110.4176    2.3e+04      0.309      0.758   -3.81e+04    5.23e+04\n",
      "BsmtExposure_No        5497.4571   2.29e+04      0.240      0.810   -3.95e+04    5.05e+04\n",
      "BsmtFinType1_ALQ      -8866.9819   9374.446     -0.946      0.344   -2.73e+04    9525.052\n",
      "BsmtFinType1_BLQ      -5960.5048   9348.125     -0.638      0.524   -2.43e+04    1.24e+04\n",
      "BsmtFinType1_GLQ      -3217.7671   9342.736     -0.344      0.731   -2.15e+04    1.51e+04\n",
      "BsmtFinType1_LwQ      -1.204e+04   9607.173     -1.253      0.210   -3.09e+04    6806.152\n",
      "BsmtFinType1_Rec      -8687.3384   9402.076     -0.924      0.356   -2.71e+04    9758.905\n",
      "BsmtFinType1_Unf      -6061.3895   9273.530     -0.654      0.513   -2.43e+04    1.21e+04\n",
      "BsmtFinType2_ALQ       2.882e+04   2.49e+04      1.155      0.248   -2.01e+04    7.78e+04\n",
      "BsmtFinType2_BLQ       1.583e+04   2.47e+04      0.641      0.522   -3.26e+04    6.43e+04\n",
      "BsmtFinType2_GLQ       2.627e+04   2.55e+04      1.032      0.302   -2.37e+04    7.62e+04\n",
      "BsmtFinType2_LwQ        1.49e+04   2.47e+04      0.603      0.547   -3.36e+04    6.34e+04\n",
      "BsmtFinType2_Rec       1.889e+04   2.47e+04      0.766      0.444   -2.95e+04    6.73e+04\n",
      "BsmtFinType2_Unf       2.074e+04   2.46e+04      0.843      0.399   -2.75e+04     6.9e+04\n",
      "Heating_Floor           219.1846   3.37e+04      0.006      0.995   -6.59e+04    6.64e+04\n",
      "Heating_GasA           9396.3504   2.65e+04      0.355      0.723   -4.26e+04    6.14e+04\n",
      "Heating_GasW           7058.2877   2.68e+04      0.264      0.792   -4.55e+04    5.96e+04\n",
      "Heating_Grav           1323.2821   2.84e+04      0.047      0.963   -5.43e+04     5.7e+04\n",
      "Heating_OthW          -1.105e+04   3.09e+04     -0.358      0.721   -7.17e+04    4.96e+04\n",
      "Heating_Wall           2.253e+04   2.92e+04      0.773      0.440   -3.47e+04    7.97e+04\n",
      "HeatingQC_Ex           6723.8613   3.15e+04      0.214      0.831    -5.5e+04    6.85e+04\n",
      "HeatingQC_Fa           7490.0309   3.16e+04      0.237      0.813   -5.45e+04    6.95e+04\n",
      "HeatingQC_Gd           2693.5895   3.13e+04      0.086      0.932   -5.88e+04    6.42e+04\n",
      "HeatingQC_Po           9064.9217    3.8e+04      0.238      0.812   -6.56e+04    8.37e+04\n",
      "HeatingQC_TA           3498.3544   3.15e+04      0.111      0.912   -5.83e+04    6.53e+04\n",
      "CentralAir_N            1.48e+04   7.77e+04      0.190      0.849   -1.38e+05    1.67e+05\n",
      "CentralAir_Y           1.467e+04   7.77e+04      0.189      0.850   -1.38e+05    1.67e+05\n",
      "Electrical_FuseA      -1.035e+04    2.4e+04     -0.430      0.667   -5.75e+04    3.68e+04\n",
      "Electrical_FuseF      -1.036e+04   2.44e+04     -0.424      0.672   -5.83e+04    3.76e+04\n",
      "Electrical_FuseP      -1.836e+04   3.02e+04     -0.609      0.543   -7.76e+04    4.08e+04\n",
      "Electrical_Mix        -5.143e+04   5.06e+04     -1.017      0.310   -1.51e+05    4.78e+04\n",
      "Electrical_SBrkr      -1.246e+04   2.38e+04     -0.522      0.601   -5.92e+04    3.43e+04\n",
      "KitchenQual_Ex         2.384e+04    3.9e+04      0.610      0.542   -5.28e+04       1e+05\n",
      "KitchenQual_Fa         3950.0200   3.89e+04      0.102      0.919   -7.24e+04    8.03e+04\n",
      "KitchenQual_Gd          321.1190    3.9e+04      0.008      0.993   -7.61e+04    7.68e+04\n",
      "KitchenQual_TA         1360.8353   3.89e+04      0.035      0.972   -7.49e+04    7.76e+04\n",
      "Functional_Maj1        6258.6145   2.29e+04      0.273      0.785   -3.87e+04    5.12e+04\n",
      "Functional_Maj2        4358.8830   2.55e+04      0.171      0.864   -4.57e+04    5.44e+04\n",
      "Functional_Min1        1.316e+04   2.29e+04      0.575      0.565   -3.17e+04     5.8e+04\n",
      "Functional_Min2        1.437e+04   2.32e+04      0.618      0.537   -3.12e+04       6e+04\n",
      "Functional_Mod          728.7162   2.38e+04      0.031      0.976   -4.61e+04    4.75e+04\n",
      "Functional_Sev        -3.348e+04   3.32e+04     -1.009      0.313   -9.86e+04    3.16e+04\n",
      "Functional_Typ         2.407e+04   2.26e+04      1.063      0.288   -2.04e+04    6.85e+04\n",
      "FireplaceQu_Ex        -8883.0913   6225.903     -1.427      0.154   -2.11e+04    3331.714\n",
      "FireplaceQu_Fa        -9689.4046   5332.980     -1.817      0.069   -2.02e+04     773.545\n",
      "FireplaceQu_Gd        -6056.8031   3415.754     -1.773      0.076   -1.28e+04     644.677\n",
      "FireplaceQu_Po         3472.5179   6376.141      0.545      0.586   -9037.043     1.6e+04\n",
      "FireplaceQu_TA        -5121.3017   3573.449     -1.433      0.152   -1.21e+04    1889.566\n",
      "GarageType_2Types     -2.127e+04   9754.017     -2.180      0.029   -4.04e+04   -2128.493\n",
      "GarageType_Attchd     -1804.1466   2812.051     -0.642      0.521   -7321.202    3712.909\n",
      "GarageType_Basment     2734.7969   6104.581      0.448      0.654   -9241.981    1.47e+04\n",
      "GarageType_BuiltIn    -1975.1027   3935.056     -0.502      0.616   -9695.419    5745.214\n",
      "GarageType_CarPort     2989.1840   8724.383      0.343      0.732   -1.41e+04    2.01e+04\n",
      "GarageType_Detchd      1218.7312   2909.166      0.419      0.675   -4488.857    6926.320\n",
      "GarageFinish_Fin      -5033.4916   3204.540     -1.571      0.117   -1.13e+04    1253.600\n",
      "GarageFinish_RFn      -7425.7281   3148.520     -2.358      0.019   -1.36e+04   -1248.543\n",
      "GarageFinish_Unf      -5642.5378   3067.510     -1.839      0.066   -1.17e+04     375.711\n",
      "GarageQual_Ex          9.772e+04   2.44e+04      4.008      0.000    4.99e+04    1.46e+05\n",
      "GarageQual_Fa         -2.731e+04   7886.261     -3.463      0.001   -4.28e+04   -1.18e+04\n",
      "GarageQual_Gd         -2.237e+04   9928.095     -2.254      0.024   -4.19e+04   -2894.756\n",
      "GarageQual_Po         -4.484e+04   2.08e+04     -2.160      0.031   -8.56e+04   -4115.366\n",
      "GarageQual_TA          -2.13e+04   7614.008     -2.797      0.005   -3.62e+04   -6359.745\n",
      "GarageCond_Ex         -9.473e+04   2.83e+04     -3.349      0.001    -1.5e+05   -3.92e+04\n",
      "GarageCond_Fa          1.754e+04   8187.791      2.142      0.032    1474.224    3.36e+04\n",
      "GarageCond_Gd          1.655e+04   1.09e+04      1.518      0.129   -4834.645    3.79e+04\n",
      "GarageCond_Po          2.335e+04    1.3e+04      1.800      0.072   -2106.263    4.88e+04\n",
      "GarageCond_TA           1.92e+04   7479.866      2.566      0.010    4520.017    3.39e+04\n",
      "PavedDrive_N           1.108e+04   5.18e+04      0.214      0.831   -9.06e+04    1.13e+05\n",
      "PavedDrive_P           7532.6935   5.19e+04      0.145      0.885   -9.42e+04    1.09e+05\n",
      "PavedDrive_Y           1.085e+04   5.19e+04      0.209      0.834    -9.1e+04    1.13e+05\n",
      "PoolQC_Ex             -2.563e+05   1.23e+05     -2.091      0.037   -4.97e+05   -1.58e+04\n",
      "PoolQC_Fa             -4.132e+05   1.49e+05     -2.769      0.006   -7.06e+05    -1.2e+05\n",
      "PoolQC_Gd             -3.832e+05   1.47e+05     -2.611      0.009   -6.71e+05   -9.52e+04\n",
      "Fence_GdPrv           -8875.1133   3667.469     -2.420      0.016   -1.61e+04   -1679.784\n",
      "Fence_GdWo             -947.6730   3566.795     -0.266      0.791   -7945.485    6050.139\n",
      "Fence_MnPrv             540.9057   2265.926      0.239      0.811   -3904.688    4986.500\n",
      "Fence_MnWw            -5774.6038   7461.811     -0.774      0.439   -2.04e+04    8864.970\n",
      "MiscFeature_Gar2       -925.4465   9.71e+04     -0.010      0.992   -1.91e+05     1.9e+05\n",
      "MiscFeature_Othr       1.431e+04   2.02e+04      0.709      0.478   -2.53e+04    5.39e+04\n",
      "MiscFeature_Shed       2380.5310   5687.872      0.419      0.676   -8778.692    1.35e+04\n",
      "MiscFeature_TenC        3.24e+04   4.72e+04      0.686      0.493   -6.03e+04    1.25e+05\n",
      "SaleType_COD          -6784.1464   1.82e+04     -0.372      0.710   -4.26e+04     2.9e+04\n",
      "SaleType_CWD           8409.4329   2.04e+04      0.412      0.680   -3.16e+04    4.84e+04\n",
      "SaleType_Con           1.873e+04   2.38e+04      0.788      0.431   -2.79e+04    6.53e+04\n",
      "SaleType_ConLD         9471.1836   1.91e+04      0.497      0.620    -2.8e+04    4.69e+04\n",
      "SaleType_ConLI        -2690.8948   2.04e+04     -0.132      0.895   -4.28e+04    3.74e+04\n",
      "SaleType_ConLw        -5661.9587   2.02e+04     -0.280      0.780   -4.53e+04     3.4e+04\n",
      "SaleType_New           1.437e+04   2.15e+04      0.668      0.504   -2.78e+04    5.66e+04\n",
      "SaleType_Oth            763.6342   2.14e+04      0.036      0.971   -4.11e+04    4.27e+04\n",
      "SaleType_WD           -7137.8248   1.77e+04     -0.404      0.686   -4.18e+04    2.75e+04\n",
      "SaleCondition_Abnorml  1883.9173   2.62e+04      0.072      0.943   -4.95e+04    5.33e+04\n",
      "SaleCondition_AdjLand  1.158e+04   2.84e+04      0.408      0.683   -4.41e+04    6.73e+04\n",
      "SaleCondition_Alloca   3063.8528   2.73e+04      0.112      0.911   -5.05e+04    5.66e+04\n",
      "SaleCondition_Family   2588.4696   2.64e+04      0.098      0.922   -4.93e+04    5.45e+04\n",
      "SaleCondition_Normal   8568.1912   2.63e+04      0.326      0.745    -4.3e+04    6.02e+04\n",
      "SaleCondition_Partial  1781.4516   2.89e+04      0.062      0.951   -5.49e+04    5.85e+04\n",
      "==============================================================================\n",
      "Omnibus:                      400.601   Durbin-Watson:                   1.917\n",
      "Prob(Omnibus):                  0.000   Jarque-Bera (JB):            14582.979\n",
      "Skew:                           0.563   Prob(JB):                         0.00\n",
      "Kurtosis:                      18.442   Cond. No.                     4.80e+17\n",
      "==============================================================================\n",
      "\n",
      "Warnings:\n",
      "[1] Standard Errors assume that the covariance matrix of the errors is correctly specified.\n",
      "[2] The smallest eigenvalue is 1.41e-24. This might indicate that there are\n",
      "strong multicollinearity problems or that the design matrix is singular.\n"
     ]
    }
   ],
   "source": [
    "results = sm.OLS(y,x).fit()\n",
    "print(results.summary())"
   ]
  },
  {
   "cell_type": "code",
   "execution_count": 158,
   "metadata": {},
   "outputs": [
    {
     "name": "stdout",
     "output_type": "stream",
     "text": [
      "R^2 of the prediction:0.933\n"
     ]
    }
   ],
   "source": [
    "#calculate R^2, F1 score, etc for the algorithms\n",
    "\n",
    "# R^2=0.933\n",
    "\n",
    "print(\"R^2 of the prediction:0.933\")"
   ]
  },
  {
   "cell_type": "code",
   "execution_count": 159,
   "metadata": {},
   "outputs": [
    {
     "name": "stdout",
     "output_type": "stream",
     "text": [
      "const                    29470.757768\n",
      "MSSubClass                 -56.237154\n",
      "LotFrontage                 43.000773\n",
      "LotArea                      0.706498\n",
      "OverallQual               6813.056406\n",
      "                             ...     \n",
      "SaleCondition_AdjLand    11584.875204\n",
      "SaleCondition_Alloca      3063.852799\n",
      "SaleCondition_Family      2588.469631\n",
      "SaleCondition_Normal      8568.191234\n",
      "SaleCondition_Partial     1781.451637\n",
      "Length: 289, dtype: float64\n"
     ]
    },
    {
     "data": {
      "text/plain": [
       "pandas.core.series.Series"
      ]
     },
     "execution_count": 159,
     "metadata": {},
     "output_type": "execute_result"
    }
   ],
   "source": [
    "print(results.params)\n",
    "type(results.params)"
   ]
  },
  {
   "cell_type": "code",
   "execution_count": 166,
   "metadata": {},
   "outputs": [
    {
     "name": "stdout",
     "output_type": "stream",
     "text": [
      "146288.85852287506\n"
     ]
    }
   ],
   "source": [
    "print(coef[\"RoofMatl_Membran\"])"
   ]
  },
  {
   "cell_type": "code",
   "execution_count": 165,
   "metadata": {},
   "outputs": [
    {
     "name": "stdout",
     "output_type": "stream",
     "text": [
      "Condition2_RRNn       46789.844772\n",
      "Condition2_Artery     49195.438694\n",
      "RoofMatl_CompShg      51463.232493\n",
      "RoofMatl_Tar&Grv      52203.165145\n",
      "RoofStyle_Shed        78674.087063\n",
      "Condition2_PosA       91612.799973\n",
      "GarageQual_Ex         97723.929097\n",
      "RoofMatl_WdShngl     106146.044871\n",
      "RoofMatl_Metal       114399.322435\n",
      "RoofMatl_Membran     146288.858523\n",
      "dtype: float64\n"
     ]
    }
   ],
   "source": [
    "print(coef.sort_values().tail(10))"
   ]
  },
  {
   "cell_type": "code",
   "execution_count": 163,
   "metadata": {},
   "outputs": [
    {
     "data": {
      "text/plain": [
       "<matplotlib.axes._subplots.AxesSubplot at 0x7fd3f1890a10>"
      ]
     },
     "execution_count": 163,
     "metadata": {},
     "output_type": "execute_result"
    },
    {
     "data": {
      "image/png": "[encoded data removed]",
      "text/plain": [
       "<Figure size 432x432 with 1 Axes>"
      ]
     },
     "metadata": {
      "needs_background": "light"
     },
     "output_type": "display_data"
    }
   ],
   "source": [
    "#let's look at the residuals as well:\n",
    "matplotlib.rcParams['figure.figsize'] = (6.0, 6.0)\n",
    "\n",
    "preds = pd.DataFrame({\"preds\":results.predict(x), \"true\":y})\n",
    "preds[\"residuals\"] = preds[\"true\"] - preds[\"preds\"]\n",
    "preds.plot(x = \"preds\", y = \"residuals\",kind = \"scatter\")"
   ]
  },
  {
   "cell_type": "code",
   "execution_count": 164,
   "metadata": {
    "scrolled": true
   },
   "outputs": [
    {
     "data": {
      "text/plain": [
       "<matplotlib.axes._subplots.AxesSubplot at 0x7fd3f1a52710>"
      ]
     },
     "execution_count": 164,
     "metadata": {},
     "output_type": "execute_result"
    },
    {
     "data": {
      "image/png": "[encoded data removed]",
      "text/plain": [
       "<Figure size 432x432 with 1 Axes>"
      ]
     },
     "metadata": {
      "needs_background": "light"
     },
     "output_type": "display_data"
    }
   ],
   "source": [
    "#let's look at the predictions-true values as well:\n",
    "matplotlib.rcParams['figure.figsize'] = (6.0, 6.0)\n",
    "\n",
    "preds = pd.DataFrame({\"preds\":results.predict(x), \"true\":y})\n",
    "#preds[\"residuals\"] = preds[\"true\"] - preds[\"preds\"]\n",
    "preds.plot(x = \"preds\", y = \"true\",kind = \"scatter\")"
   ]
  },
  {
   "cell_type": "code",
   "execution_count": 207,
   "metadata": {},
   "outputs": [
    {
     "name": "stdout",
     "output_type": "stream",
     "text": [
      "RMSE is: 20514.9\n"
     ]
    }
   ],
   "source": [
    "def rmse_accuracy_percentage(actual,predicted):\n",
    "    print(\"RMSE is:\",np.round(np.sqrt(sum(((np.array(actual)-np.array(predicted))**2))/len(actual)),2))\n",
    "\n",
    "\n",
    "rmse_accuracy_percentage(preds[\"true\"],preds[\"preds\"])"
   ]
  },
  {
   "cell_type": "code",
   "execution_count": 172,
   "metadata": {},
   "outputs": [],
   "source": [
    "#Model 2\n",
    "# Support Vector Machine (SVM)\n",
    "import numpy as np\n",
    "import matplotlib.pyplot as plt\n",
    "import pandas as pd"
   ]
  },
  {
   "cell_type": "code",
   "execution_count": 173,
   "metadata": {},
   "outputs": [],
   "source": [
    "#create dummy variables for the categorical feature\n",
    "xx=pd.get_dummies(x_all)\n",
    "\n",
    "#filling NA's with the mean of the column\n",
    "xx=xx.fillna(xx.mean())\n",
    "\n",
    "#dependent variable (yy)\n",
    "yy=df[\"SalePrice\"]\n",
    "\n",
    "# Splitting the dataset into the Training set and Test set\n",
    "from sklearn.model_selection import train_test_split\n",
    "x_train, x_test, y_train, y_test = train_test_split(xx, yy, test_size = 0.10, random_state = 0)\n",
    "\n",
    "# Feature Scaling: (x-mu)/sigma \n",
    "from sklearn.preprocessing import StandardScaler\n",
    "sc = StandardScaler()\n",
    "x_train = sc.fit_transform(x_train)\n",
    "x_test = sc.transform(x_test)"
   ]
  },
  {
   "cell_type": "code",
   "execution_count": 178,
   "metadata": {},
   "outputs": [
    {
     "name": "stdout",
     "output_type": "stream",
     "text": [
      "R^2 of the prediction:\n",
      "0.22675148181598392\n",
      "R^2 of the prediction:\n",
      "0.22675148181598392\n",
      "rmse of the prediction:\n"
     ]
    },
    {
     "data": {
      "text/plain": [
       "72896.17933878094"
      ]
     },
     "execution_count": 178,
     "metadata": {},
     "output_type": "execute_result"
    }
   ],
   "source": [
    "# Fitting SVM to the Training set\n",
    "from sklearn.svm import SVR\n",
    "#regr = SVR(kernel = 'linear',C=1.0, epsilon=0.1)\n",
    "#regr = SVR(kernel = 'poly',C=1.0, epsilon=0.1)\n",
    "#regr = SVR(kernel = 'rbf',C=1.0, epsilon=0.1)\n",
    "regr = SVR(kernel = 'linear',C=1.0, epsilon=0.1)\n",
    "regr.fit(x_train, y_train)\n",
    "# Predicting the Test set results\n",
    "svm_y_pred = regr.predict(x_test)\n",
    "\n",
    "# calculate the R^2 produced by the SVR model\n",
    "from sklearn.metrics import r2_score\n",
    "svm_Rsquare=r2_score(y_test,svm_y_pred)\n",
    "print(\"R^2 of the prediction:\")\n",
    "print(Rsquare)\n",
    "\n",
    "# Return the coefficient of determination R^2 of the prediction.\n",
    "from sklearn.pipeline import make_pipeline\n",
    "svm_Rsquare=regr.score(x_test, y_test, sample_weight=None)\n",
    "print(\"R^2 of the prediction:\")\n",
    "print(svm_Rsquare)\n",
    "\n",
    "# calculate the root mean squared error produced by the SVR model\n",
    "from sklearn.metrics import mean_squared_error\n",
    "svm_mse=mean_squared_error(y_test,svm_y_pred)\n",
    "svm_rmse=np.sqrt(svm_mse)\n",
    "print(\"rmse of the prediction:\")\n",
    "svm_rmse"
   ]
  },
  {
   "cell_type": "code",
   "execution_count": 177,
   "metadata": {},
   "outputs": [
    {
     "data": {
      "text/plain": [
       "826.4723560772738"
      ]
     },
     "execution_count": 177,
     "metadata": {},
     "output_type": "execute_result"
    }
   ],
   "source": [
    "svm_coef[\"OverallQual\"]"
   ]
  },
  {
   "cell_type": "code",
   "execution_count": 176,
   "metadata": {},
   "outputs": [
    {
     "data": {
      "text/plain": [
       "Text(0.5, 1.0, \"Coefficients in the SVR(kernel = 'linear') Model\")"
      ]
     },
     "execution_count": 176,
     "metadata": {},
     "output_type": "execute_result"
    },
    {
     "data": {
      "image/png": "[encoded data removed]",
      "text/plain": [
       "<Figure size 576x720 with 1 Axes>"
      ]
     },
     "metadata": {
      "needs_background": "light"
     },
     "output_type": "display_data"
    }
   ],
   "source": [
    "import matplotlib\n",
    "import matplotlib.pyplot as plt\n",
    "#coef = results.params\n",
    "\n",
    "svm_coef=regr.coef_\n",
    "svm_coef=np.ravel(svm_coef)\n",
    "svm_coef = pd.Series(svm_coef, index = xx.columns)\n",
    "svm_imp_coef = pd.concat([svm_coef.sort_values().head(10),svm_coef.sort_values().tail(10)])\n",
    "matplotlib.rcParams['figure.figsize'] = (8.0, 10.0)\n",
    "svm_imp_coef.plot(kind = \"barh\")\n",
    "plt.title(\"Coefficients in the SVR(kernel = 'linear') Model\")"
   ]
  },
  {
   "cell_type": "code",
   "execution_count": 213,
   "metadata": {},
   "outputs": [
    {
     "data": {
      "text/plain": [
       "<matplotlib.axes._subplots.AxesSubplot at 0x7fd3f42df250>"
      ]
     },
     "execution_count": 213,
     "metadata": {},
     "output_type": "execute_result"
    },
    {
     "data": {
      "image/png": "[encoded data removed]",
      "text/plain": [
       "<Figure size 432x432 with 1 Axes>"
      ]
     },
     "metadata": {
      "needs_background": "light"
     },
     "output_type": "display_data"
    }
   ],
   "source": [
    "#model 2\n",
    "#error analysis: let's look at the prediction-true values as well\n",
    "matplotlib.rcParams['figure.figsize'] = (6.0, 6.0)\n",
    "\n",
    "svm_preds = pd.DataFrame({\"preds\":svm_y_pred, \"true\":y_test})\n",
    "svm_preds[\"residuals\"] = svm_preds[\"true\"] - svm_preds[\"preds\"]\n",
    "svm_preds.plot(x = \"preds\", y = \"residuals\",kind = \"scatter\")"
   ]
  },
  {
   "cell_type": "code",
   "execution_count": 214,
   "metadata": {},
   "outputs": [
    {
     "data": {
      "text/plain": [
       "<matplotlib.axes._subplots.AxesSubplot at 0x7fd3f4400390>"
      ]
     },
     "execution_count": 214,
     "metadata": {},
     "output_type": "execute_result"
    },
    {
     "data": {
      "image/png": "[encoded data removed]",
      "text/plain": [
       "<Figure size 432x432 with 1 Axes>"
      ]
     },
     "metadata": {
      "needs_background": "light"
     },
     "output_type": "display_data"
    }
   ],
   "source": [
    "# model2\n",
    "#error analysis: let's look at the prediction-true values as well\n",
    "matplotlib.rcParams['figure.figsize'] = (6.0, 6.0)\n",
    "\n",
    "svm_preds = pd.DataFrame({\"preds\":svm_y_pred, \"true\":y_test})\n",
    "#preds[\"residuals\"] = preds[\"true\"] - preds[\"preds\"]\n",
    "svm_preds.plot(x = \"preds\", y = \"true\",kind = \"scatter\")"
   ]
  },
  {
   "cell_type": "code",
   "execution_count": 133,
   "metadata": {},
   "outputs": [
    {
     "name": "stdout",
     "output_type": "stream",
     "text": [
      "R^2 of the prediction:\n",
      "0.868396163141081\n",
      "rmse of the prediction:\n"
     ]
    },
    {
     "data": {
      "text/plain": [
       "30073.189705449422"
      ]
     },
     "execution_count": 133,
     "metadata": {},
     "output_type": "execute_result"
    }
   ],
   "source": [
    "# Model 3\n",
    "# Random Forest regressor\n",
    "\n",
    "# Fitting Regressor to the Training set\n",
    "from sklearn.ensemble import RandomForestRegressor\n",
    "rf_model = RandomForestRegressor(random_state = 1)\n",
    "\n",
    "# fit model\n",
    "rf_model.fit(x_train, y_train) \n",
    "\n",
    "# Predicting the Test set results\n",
    "rf_y_pred = rf_model.predict(x_test)\n",
    "\n",
    "\n",
    "# calculate the R^2 produced by the Random Forest model\n",
    "from sklearn.metrics import r2_score\n",
    "rf_Rsquare=r2_score(y_test,rf_y_pred)\n",
    "print(\"R^2 of the prediction:\")\n",
    "print(rf_Rsquare)\n",
    "\n",
    "\n",
    "# calculate the root mean squared error produced by the Random Forest model\n",
    "from sklearn.metrics import mean_squared_error\n",
    "rf_mse=mean_squared_error(y_test,rf_y_pred)\n",
    "rf_rmse=np.sqrt(rf_mse)\n",
    "print(\"rmse of the prediction:\")\n",
    "rf_rmse"
   ]
  },
  {
   "cell_type": "code",
   "execution_count": 193,
   "metadata": {},
   "outputs": [
    {
     "name": "stdout",
     "output_type": "stream",
     "text": [
      "Condition2_RRAn       0.000000e+00\n",
      "Utilities_AllPub      0.000000e+00\n",
      "RoofMatl_Membran      0.000000e+00\n",
      "MiscFeature_Othr      0.000000e+00\n",
      "RoofMatl_Roll         8.027072e-12\n",
      "Exterior1st_CBlock    2.899628e-08\n",
      "ExterCond_Ex          7.009580e-08\n",
      "Heating_Floor         8.029964e-08\n",
      "Exterior2nd_Other     1.118915e-07\n",
      "Condition2_RRAe       1.259331e-07\n",
      "dtype: float64\n"
     ]
    }
   ],
   "source": [
    "print(rf_coef.sort_values().head(10))"
   ]
  },
  {
   "cell_type": "code",
   "execution_count": 217,
   "metadata": {},
   "outputs": [
    {
     "data": {
      "text/plain": [
       "Text(0.5, 1.0, 'feature_importances in the Random Forest Model')"
      ]
     },
     "execution_count": 217,
     "metadata": {},
     "output_type": "execute_result"
    },
    {
     "data": {
      "image/png": "[encoded data removed]",
      "text/plain": [
       "<Figure size 576x720 with 1 Axes>"
      ]
     },
     "metadata": {
      "needs_background": "light"
     },
     "output_type": "display_data"
    }
   ],
   "source": [
    "# Model 3\n",
    "# Random Forest regressor\n",
    "\n",
    "import matplotlib\n",
    "import matplotlib.pyplot as plt\n",
    "\n",
    "rf_coef=rf_model.feature_importances_\n",
    "rf_coef=np.ravel(rf_coef)\n",
    "rf_coef = pd.Series(rf_coef, index = xx.columns)\n",
    "rf_imp_coef = pd.concat([rf_coef.sort_values().head(10),rf_coef.sort_values().tail(10)])\n",
    "matplotlib.rcParams['figure.figsize'] = (8.0, 10.0)\n",
    "rf_imp_coef.plot(kind = \"barh\")\n",
    "plt.title(\"feature_importances in the Random Forest Model\")"
   ]
  },
  {
   "cell_type": "code",
   "execution_count": 212,
   "metadata": {},
   "outputs": [
    {
     "data": {
      "text/plain": [
       "<matplotlib.axes._subplots.AxesSubplot at 0x7fd3f41fe250>"
      ]
     },
     "execution_count": 212,
     "metadata": {},
     "output_type": "execute_result"
    },
    {
     "data": {
      "image/png": "[encoded data removed]",
      "text/plain": [
       "<Figure size 432x432 with 1 Axes>"
      ]
     },
     "metadata": {
      "needs_background": "light"
     },
     "output_type": "display_data"
    }
   ],
   "source": [
    "# Model 3\n",
    "# Random Forest regressor\n",
    "\n",
    "#error analysis: let's look at the prediction-true values as well\n",
    "matplotlib.rcParams['figure.figsize'] = (6.0, 6.0)\n",
    "\n",
    "rf_preds = pd.DataFrame({\"preds\":rf_y_pred, \"true\":y_test})\n",
    "rf_preds[\"residuals\"] = rf_preds[\"true\"] - rf_preds[\"preds\"]\n",
    "rf_preds.plot(x = \"preds\", y = \"residuals\",kind = \"scatter\")"
   ]
  },
  {
   "cell_type": "code",
   "execution_count": 184,
   "metadata": {},
   "outputs": [
    {
     "data": {
      "text/plain": [
       "<matplotlib.axes._subplots.AxesSubplot at 0x7fd3f24f7490>"
      ]
     },
     "execution_count": 184,
     "metadata": {},
     "output_type": "execute_result"
    },
    {
     "data": {
      "image/png": "[encoded data removed]",
      "text/plain": [
       "<Figure size 432x432 with 1 Axes>"
      ]
     },
     "metadata": {
      "needs_background": "light"
     },
     "output_type": "display_data"
    }
   ],
   "source": [
    "# Model 3\n",
    "# Random Forest regressor\n",
    "\n",
    "#error analysis: let's look at the prediction-true values as well\n",
    "matplotlib.rcParams['figure.figsize'] = (6.0, 6.0)\n",
    "\n",
    "rf_preds = pd.DataFrame({\"preds\":rf_y_pred, \"true\":y_test})\n",
    "#preds[\"residuals\"] = preds[\"true\"] - preds[\"preds\"]\n",
    "rf_preds.plot(x = \"preds\", y = \"true\",kind = \"scatter\")"
   ]
  },
  {
   "cell_type": "code",
   "execution_count": 140,
   "metadata": {},
   "outputs": [
    {
     "name": "stdout",
     "output_type": "stream",
     "text": [
      "R^2 of the prediction:\n",
      "0.8243165422012237\n",
      "rmse of the prediction:\n"
     ]
    },
    {
     "data": {
      "text/plain": [
       "34746.467100274705"
      ]
     },
     "execution_count": 140,
     "metadata": {},
     "output_type": "execute_result"
    }
   ],
   "source": [
    "# Model 4\n",
    "# Decision Tree regressor\n",
    "\n",
    "# Fitting Regressor to the Training set\n",
    "from sklearn.tree import DecisionTreeRegressor\n",
    "dt_model = DecisionTreeRegressor(random_state = 1,max_leaf_nodes=100)\n",
    "\n",
    "# fit model\n",
    "dt_model.fit(x_train, y_train) \n",
    "\n",
    "# Predicting the Test set results\n",
    "dt_y_pred = dt_model.predict(x_test)\n",
    "\n",
    "\n",
    "# calculate the R^2 produced by the DT_model\n",
    "from sklearn.metrics import r2_score\n",
    "dt_Rsquare=r2_score(y_test,dt_y_pred)\n",
    "print(\"R^2 of the prediction:\")\n",
    "print(dt_Rsquare)\n",
    "\n",
    "\n",
    "# calculate the root mean squared error produced by the Random Forest model\n",
    "from sklearn.metrics import mean_squared_error\n",
    "dt_mse=mean_squared_error(y_test,dt_y_pred)\n",
    "dt_rmse=np.sqrt(dt_mse)\n",
    "print(\"rmse of the prediction:\")\n",
    "dt_rmse"
   ]
  },
  {
   "cell_type": "code",
   "execution_count": 218,
   "metadata": {},
   "outputs": [
    {
     "data": {
      "text/plain": [
       "Text(0.5, 1.0, 'feature_importances in the Decision Tree Regressor Model')"
      ]
     },
     "execution_count": 218,
     "metadata": {},
     "output_type": "execute_result"
    },
    {
     "data": {
      "image/png": "[encoded data removed]",
      "text/plain": [
       "<Figure size 576x720 with 1 Axes>"
      ]
     },
     "metadata": {
      "needs_background": "light"
     },
     "output_type": "display_data"
    }
   ],
   "source": [
    "import matplotlib\n",
    "import matplotlib.pyplot as plt\n",
    "\n",
    "dt_coef=dt_model.feature_importances_\n",
    "dt_coef=np.ravel(dt_coef)\n",
    "dt_coef = pd.Series(dt_coef, index = xx.columns)\n",
    "dt_imp_coef = pd.concat([dt_coef.sort_values().head(10),dt_coef.sort_values().tail(10)])\n",
    "matplotlib.rcParams['figure.figsize'] = (8.0, 10.0)\n",
    "dt_imp_coef.plot(kind = \"barh\")\n",
    "plt.title(\"feature_importances in the Decision Tree Regressor Model\")"
   ]
  },
  {
   "cell_type": "code",
   "execution_count": 215,
   "metadata": {},
   "outputs": [
    {
     "data": {
      "text/plain": [
       "<matplotlib.axes._subplots.AxesSubplot at 0x7fd3f4508ed0>"
      ]
     },
     "execution_count": 215,
     "metadata": {},
     "output_type": "execute_result"
    },
    {
     "data": {
      "image/png": "[encoded data removed]",
      "text/plain": [
       "<Figure size 432x432 with 1 Axes>"
      ]
     },
     "metadata": {
      "needs_background": "light"
     },
     "output_type": "display_data"
    }
   ],
   "source": [
    "# Model 4\n",
    "# Decision Tree regressor\n",
    "\n",
    "#error analysis: let's look at the prediction-true values as well\n",
    "matplotlib.rcParams['figure.figsize'] = (6.0, 6.0)\n",
    "\n",
    "dt_preds = pd.DataFrame({\"preds\":dt_y_pred, \"true\":y_test})\n",
    "dt_preds[\"residuals\"] = dt_preds[\"true\"] - dt_preds[\"preds\"]\n",
    "dt_preds.plot(x = \"preds\", y = \"residuals\",kind = \"scatter\")"
   ]
  },
  {
   "cell_type": "code",
   "execution_count": 186,
   "metadata": {},
   "outputs": [
    {
     "data": {
      "text/plain": [
       "<matplotlib.axes._subplots.AxesSubplot at 0x7fd3f2573350>"
      ]
     },
     "execution_count": 186,
     "metadata": {},
     "output_type": "execute_result"
    },
    {
     "data": {
      "image/png": "[encoded data removed]",
      "text/plain": [
       "<Figure size 432x432 with 1 Axes>"
      ]
     },
     "metadata": {
      "needs_background": "light"
     },
     "output_type": "display_data"
    }
   ],
   "source": [
    "# Model 4\n",
    "# Decision Tree regressor\n",
    "\n",
    "#error analysis: let's look at the prediction-true values as well\n",
    "matplotlib.rcParams['figure.figsize'] = (6.0, 6.0)\n",
    "\n",
    "dt_preds = pd.DataFrame({\"preds\":dt_y_pred, \"true\":y_test})\n",
    "#preds[\"residuals\"] = preds[\"true\"] - preds[\"preds\"]\n",
    "dt_preds.plot(x = \"preds\", y = \"true\",kind = \"scatter\")"
   ]
  },
  {
   "cell_type": "code",
   "execution_count": null,
   "metadata": {},
   "outputs": [],
   "source": []
  }
 ],
 "metadata": {
  "kernelspec": {
   "display_name": "Python 3",
   "language": "python",
   "name": "python3"
  },
  "language_info": {
   "codemirror_mode": {
    "name": "ipython",
    "version": 3
   },
   "file_extension": ".py",
   "mimetype": "text/x-python",
   "name": "python",
   "nbconvert_exporter": "python",
   "pygments_lexer": "ipython3",
   "version": "3.7.6"
  }
 },
 "nbformat": 4,
 "nbformat_minor": 4
}
